{
 "cells": [
  {
   "cell_type": "code",
   "execution_count": null,
   "metadata": {},
   "outputs": [],
   "source": [
    "import os\n",
    "import pandas as pd\n",
    "import re\n",
    "import json\n",
    "import time\n",
    "import requests\n",
    "from requests.auth import HTTPBasicAuth\n",
    "from elasticsearch import Elasticsearch\n",
    "from elasticsearch.helpers import bulk"
   ]
  },
  {
   "cell_type": "markdown",
   "metadata": {},
   "source": [
    "## Home depot use-case"
   ]
  },
  {
   "cell_type": "code",
   "execution_count": null,
   "metadata": {},
   "outputs": [],
   "source": [
    "# custom ES wrapper\n",
    "class Elastic:\n",
    "    \"\"\"\n",
    "    A convenience object to send HTTP requests to Elasticsearch\n",
    "    \"\"\"\n",
    "    def __init__(self, endpoint, username, password, path_to_ca_certificates):\n",
    "        \"\"\"\n",
    "        @param endpoint: the URL of the Elasticsearch instance\n",
    "        @param username: the Elasticsearch username \n",
    "        @param password: the Elasticsearch password\n",
    "        \"\"\"\n",
    "        self.header = {'Content-Type': 'application/json', 'charset':'UTF-8'}\n",
    "        #self.header={'Content-Type': '--data-binary application/x-ndjson'}\n",
    "        self.endpoint = endpoint\n",
    "        self.username = username\n",
    "        self.password = password\n",
    "        self.path_to_ca_certificates = path_to_ca_certificates\n",
    "        self.methods_mapping = {'get': requests.get, \n",
    "                                'put':requests.put, \n",
    "                                'post':requests.post, \n",
    "                                'delete':requests.delete}\n",
    "        \n",
    "    def curl(self, method, handle, json=None):\n",
    "        \"\"\"\n",
    "        Sends an HTTP request to the Elasticsearch instance\n",
    "        @param method: can be 'get', 'put', 'post', 'delete'\n",
    "        @param handle: the API handle to be appended to the Elasticsearch url\n",
    "        @param json: the json payload of the HTTP request\n",
    "        \"\"\"\n",
    "        http_method = self.methods_mapping[method.lower()]\n",
    "        r = http_method(f'{self.endpoint}/{handle}', auth=HTTPBasicAuth(USER, PWD), \n",
    "                        headers=self.header, json=json,\n",
    "                        verify = self.path_to_ca_certificates)\n",
    "        return r"
   ]
  },
  {
   "cell_type": "code",
   "execution_count": null,
   "metadata": {},
   "outputs": [],
   "source": [
    "# !!! CUSTOMIZE THIS SECTION WITH YOUR CREDENTIALS !!!\n",
    "\n",
    "# credendials and global variables\n",
    "USER = 'elastic'\n",
    "PWD = 'YOUR_PWD_HERE'\n",
    "index_name = 'homedepot'\n",
    "ES_ENDPOINT = 'https://localhost:9200'\n",
    "path_to_ca_certificates = '/PATH/TO/CERT/elasticsearch-8.5.3/config/certs/http_ca.crt'\n",
    "e = Elastic(ES_ENDPOINT, USER, PWD, path_to_ca_certificates)"
   ]
  },
  {
   "cell_type": "code",
   "execution_count": null,
   "metadata": {},
   "outputs": [],
   "source": []
  },
  {
   "cell_type": "markdown",
   "metadata": {},
   "source": [
    "### Step 1. Data preparation, index population"
   ]
  },
  {
   "cell_type": "code",
   "execution_count": null,
   "metadata": {},
   "outputs": [],
   "source": [
    "df_queries = pd.read_csv('queries.csv')\n",
    "df_products = pd.read_csv('products.csv')"
   ]
  },
  {
   "cell_type": "code",
   "execution_count": null,
   "metadata": {},
   "outputs": [],
   "source": [
    "df_queries.head()"
   ]
  },
  {
   "cell_type": "code",
   "execution_count": null,
   "metadata": {},
   "outputs": [],
   "source": [
    "#transform dataframe into json format\n",
    "df_products = df_products.set_index('product_uid')\n",
    "docs = df_products.to_dict(orient='records')\n",
    "doc_ids = df_products.index\n",
    "print(doc_ids[0])\n",
    "print(docs[0])"
   ]
  },
  {
   "cell_type": "code",
   "execution_count": null,
   "metadata": {},
   "outputs": [],
   "source": [
    "# create an index\n",
    "create_index_json={\n",
    "  \"mappings\" : {\n",
    "      \"properties\" : {\n",
    "        \"product_description\" : {\n",
    "          \"type\" : \"text\"\n",
    "        },\n",
    "        \"product_title\" : {\n",
    "          \"type\" : \"text\"\n",
    "        }\n",
    "      }\n",
    "  },\n",
    "  \"settings\": {\n",
    "    \"number_of_shards\": 2, \n",
    "    \"number_of_replicas\": 2,\n",
    "    \"index\" : {\n",
    "        \"similarity\" : {\n",
    "          \"default\" : {\n",
    "            \"type\" : \"BM25\", \"b\": 0.75, \"k1\": 1.2\n",
    "          }\n",
    "        }\n",
    "    },\n",
    "    \"analysis\": {\n",
    "      \"analyzer\": {\n",
    "        \"std_english\": {\"type\": \"standard\", \"stopwords\": \"_english_\" }\n",
    "      }\n",
    "    }\n",
    "  }\n",
    "}\n",
    "\n",
    "e.curl('put', index_name, json=create_index_json).json()"
   ]
  },
  {
   "cell_type": "code",
   "execution_count": null,
   "metadata": {},
   "outputs": [],
   "source": [
    "# bulk indexing \n",
    "es = Elasticsearch([ES_ENDPOINT], ca_certs=path_to_ca_certificates, basic_auth=(USER, PWD))\n",
    "actions = [\n",
    "  {\n",
    "    \"_index\": index_name,\n",
    "    \"_id\": doc_id,\n",
    "    \"_source\": doc\n",
    "  }\n",
    "  for doc_id, doc in list(zip(doc_ids, docs))\n",
    "]\n",
    "# deactivate refresh in preparation of data indexing\n",
    "r = e.curl('put', f'{index_name}/_settings', {'index' : {'refresh_interval' : -1}})\n",
    "# send actions in bulk (the API takes care of chunking them optimally)\n",
    "bulk(es, actions)\n",
    "# re-activate refresh\n",
    "r = e.curl('put', f'{index_name}/_settings', {'index' : {'refresh_interval' : '3s'}})"
   ]
  },
  {
   "cell_type": "code",
   "execution_count": null,
   "metadata": {},
   "outputs": [],
   "source": [
    "#see if all products have been indexed\n",
    "e.curl('get', f'{index_name}/_count').json()"
   ]
  },
  {
   "cell_type": "code",
   "execution_count": null,
   "metadata": {},
   "outputs": [],
   "source": [
    "#check one example document\n",
    "e.curl('get', f'{index_name}/_doc/100001').json()"
   ]
  },
  {
   "cell_type": "markdown",
   "metadata": {},
   "source": [
    "### Learning to rank"
   ]
  },
  {
   "cell_type": "markdown",
   "metadata": {},
   "source": [
    "#### Step 2. Create the feature store"
   ]
  },
  {
   "cell_type": "code",
   "execution_count": null,
   "metadata": {},
   "outputs": [],
   "source": [
    "#initialize feature store\n",
    "e.curl('put', f'_ltr').json()\n",
    "#to reset everything, run:\n",
    "#e.curl('delete', f'_ltr').json()"
   ]
  },
  {
   "cell_type": "markdown",
   "metadata": {},
   "source": [
    "#### Step 3. Create a feature set"
   ]
  },
  {
   "cell_type": "code",
   "execution_count": null,
   "metadata": {},
   "outputs": [],
   "source": [
    "create_feature_set_json={\n",
    "   \"featureset\": {\n",
    "        \"features\": [\n",
    "            {\n",
    "                \"name\": \"f_product_title\",\n",
    "                \"params\": [\n",
    "                    \"keywords\"\n",
    "                ],\n",
    "                \"template_language\": \"mustache\",\n",
    "                \"template\": {\n",
    "                    \"match\": {\n",
    "                        \"product_title\": \"{{keywords}}\"\n",
    "                    }\n",
    "                }\n",
    "            },\n",
    "            {\n",
    "                \"name\": \"f_product_description\",\n",
    "                \"params\": [\n",
    "                    \"keywords\"\n",
    "                ],\n",
    "                \"template_language\": \"mustache\",\n",
    "                \"template\": {\n",
    "                    \"match\": {\n",
    "                        \"product_description\": \"{{keywords}}\"\n",
    "                    }\n",
    "                }\n",
    "            }\n",
    "        ]\n",
    "   },\n",
    "   \"validation\": {\n",
    "     \"params\": {\n",
    "         \"keywords\": \"circular saw\"\n",
    "     },\n",
    "     \"index\": \"homedepot\"\n",
    "    }\n",
    "}\n",
    "\n",
    "e.curl('post', f'_ltr/_featureset/depot_textual_features', create_feature_set_json).json()"
   ]
  },
  {
   "cell_type": "code",
   "execution_count": null,
   "metadata": {},
   "outputs": [],
   "source": [
    "# see the created feature list\n",
    "e.curl('get', '_ltr/_featureset').json()"
   ]
  },
  {
   "cell_type": "markdown",
   "metadata": {},
   "source": [
    "#### Step 4. Query the index to get features for query-doc pairs "
   ]
  },
  {
   "cell_type": "code",
   "execution_count": null,
   "metadata": {},
   "outputs": [],
   "source": [
    "# reformat the judgement set \n",
    "df_judgements = df_queries.set_index(['qid'])\n",
    "judgements = df_judgements.to_dict(orient='records')\n",
    "qid_list = df_judgements.index\n",
    "\n",
    "# this will be a dictionary-like object structured as follows:\n",
    "# (qid,query)->docid->{'relevance':relevance}\n",
    "l = {} \n",
    "\n",
    "for qid, info in zip(qid_list, judgements):\n",
    "    try:\n",
    "        l[(qid, info['search_term'])]\n",
    "    except:\n",
    "        l[(qid, info['search_term'])] = {}\n",
    "    l[(qid, info['search_term'])][info['product_uid']] = {'relevance': info['relevance']}\n",
    "#    ({'product_uid': info['product_uid'], 'relevance': info['relevance']})\n",
    "print(len(l))\n",
    "l[(0, '$ hole saw')]"
   ]
  },
  {
   "cell_type": "code",
   "execution_count": null,
   "metadata": {},
   "outputs": [],
   "source": [
    "q_json = {\n",
    "    \"query\": {\n",
    "        \"bool\": {\n",
    "            \"filter\": [\n",
    "                {\n",
    "                    \"terms\": {\n",
    "                        \"_id\": None\n",
    "                    }\n",
    "                },\n",
    "                {\n",
    "                    \"sltr\": {\n",
    "                        \"_name\": \"logged_featureset\",\n",
    "                        \"featureset\": \"depot_textual_features\",\n",
    "                        \"params\": {\n",
    "                            \"keywords\": None\n",
    "                        }\n",
    "                    }\n",
    "                }\n",
    "            ]\n",
    "        }\n",
    "    },\n",
    "    \"ext\": {\n",
    "        \"ltr_log\": {\n",
    "            \"log_specs\": {\n",
    "                \"name\": \"log_entry\",\n",
    "                \"named_query\": \"logged_featureset\"\n",
    "            }\n",
    "        }\n",
    "    },\n",
    "    \"size\":10000\n",
    "}\n",
    "\n",
    "# loops over all queries (takes several minutes). can you do the same in bulk?\n",
    "for qid,query in l:\n",
    "    pid_list = [x for x in l[(qid,query)]]\n",
    "    #set the list of product ids and the query in the query template\n",
    "    q_json[\"query\"][\"bool\"][\"filter\"][0][\"terms\"][\"_id\"] = pid_list\n",
    "    q_json[\"query\"][\"bool\"][\"filter\"][1][\"sltr\"][\"params\"][\"keywords\"] = query\n",
    "    #send request to ES to get feature values for the given query,product pairs\n",
    "    res = e.curl('post', 'homedepot/_search', q_json).json()\n",
    "    #parse response\n",
    "    for hit in res['hits']['hits']: #for each hit\n",
    "        docid = int(hit['_id']) # get the document id\n",
    "        fields = hit['fields']['_ltrlog'][0]['log_entry'] # get the fields with feature vals\n",
    "        for i,field in enumerate(fields):\n",
    "            feat_name = field['name']\n",
    "            if 'value' in field:\n",
    "                feat_value = field['value']\n",
    "            else: # when no values are reported, means that no query-text match has been found\n",
    "                feat_value = 0            \n",
    "            l[(qid,query)][docid][feat_name]=feat_value\n",
    "print(f'Example query: id={qid}, terms={query}')\n",
    "print('Corresponding documents with their relevance and features:')\n",
    "print(l[(qid,query)])"
   ]
  },
  {
   "cell_type": "code",
   "execution_count": null,
   "metadata": {},
   "outputs": [],
   "source": [
    "def to_ranklib_format(d, feats):\n",
    "    \"\"\"\n",
    "    Helper function to create a Ranklib-formatted dataframe\n",
    "    e.g., 4   qid:1   1:9.510193  2:10.7808075\n",
    "    @param d: a dictionary object formatted as:\n",
    "           (qid, query) -> docid -> {'relevance':relevance_score, feature_name:feature_value\n",
    "    @param feats: ordered_features: the names of the features, in the intended order\n",
    "    @return a dataframe formatted according to Ranklib format\n",
    "    \"\"\"\n",
    "    res = []\n",
    "    for qid, _ in d:\n",
    "        for docid in d[(qid,_)]:\n",
    "            relevance = d[(qid,_)][docid]['relevance']\n",
    "            r = [relevance, f'qid:{qid}'] \n",
    "            for feat_idx, feat in enumerate(feats):\n",
    "                try:\n",
    "                    r.append( f'{feat_idx+1}:{d[(qid,_)][docid][feat]}')\n",
    "                except:\n",
    "                    pass\n",
    "            res.append(r)\n",
    "    header = ['relevance', 'qid'] + feats\n",
    "    df = pd.DataFrame(res,columns=header)\n",
    "    return df\n",
    "\n",
    "feat_names = ['f_product_title','f_product_description']\n",
    "df_ranklib = to_ranklib_format(l, feat_names)\n",
    "df_ranklib.to_csv('homedepot_ranklib.tsv', header=False, index=False, sep='\\t')\n",
    "print(len(df_ranklib))\n",
    "df_ranklib.head()"
   ]
  },
  {
   "cell_type": "markdown",
   "metadata": {},
   "source": [
    "#### Step 5. Train a LTR model\n",
    "\n",
    "Check out documentation: https://sourceforge.net/p/lemur/wiki/browse_pages/\n",
    "\n",
    "Rankers:\n",
    "\n",
    "0: MART (gradient boosted regression tree)\n",
    "\n",
    "1: RankNet\n",
    "\n",
    "2: RankBoost\n",
    "\n",
    "3: AdaRank\n",
    "\n",
    "4: Coordinate Ascent\n",
    "\n",
    "6: LambdaMART\n",
    "\n",
    "7: ListNet\n",
    "\n",
    "8: Random Forests"
   ]
  },
  {
   "cell_type": "code",
   "execution_count": null,
   "metadata": {},
   "outputs": [],
   "source": [
    "feature_file = 'homedepot_ranklib.tsv'\n",
    "model_file = 'homedepot_ndgc_model.txt'\n",
    "cmd = f'java -jar RankLib-2.18.jar -train {feature_file} -ranker 6 -metric2t NDCG@5 -save {model_file}'\n",
    "print('Running RankLib')\n",
    "os.system(cmd)\n",
    "print('Finished')"
   ]
  },
  {
   "cell_type": "markdown",
   "metadata": {},
   "source": [
    "#### Step 6. Upload the model to ES"
   ]
  },
  {
   "cell_type": "code",
   "execution_count": null,
   "metadata": {},
   "outputs": [],
   "source": [
    "with open(model_file,'rt') as fin:\n",
    "    model_specification = fin.read()\n",
    "    \n",
    "model_json={\n",
    "    \"model\": {\n",
    "        \"name\": \"ndcg_model\",\n",
    "        \"model\": {\n",
    "            \"type\": \"model/ranklib\",\n",
    "            \"definition\": model_specification\n",
    "        }\n",
    "    }\n",
    "}\n",
    "e.curl('post', '_ltr/_featureset/depot_textual_features/_createmodel', model_json).json()"
   ]
  },
  {
   "cell_type": "markdown",
   "metadata": {},
   "source": [
    "#### Step 7. Use model to rerank query results"
   ]
  },
  {
   "cell_type": "code",
   "execution_count": null,
   "metadata": {},
   "outputs": [],
   "source": [
    "#standard query, results ranked with BM25\n",
    "query = {\n",
    "    \"query\": {\n",
    "        \"bool\": {\n",
    "            \"must\": [\n",
    "                {\"match\": {\"product_title\": \"circular saw\"}},\n",
    "                {\"match\": {\"product_description\": \"circular saw\"}}\n",
    "            ]\n",
    "        }\n",
    "    }\n",
    "}\n",
    "\n",
    "res = dict(e.curl('post', 'homedepot/_search', query).json())\n",
    "docids_ranked_lambdamart = [hit['_id'] for hit in res['hits']['hits']]"
   ]
  },
  {
   "cell_type": "code",
   "execution_count": null,
   "metadata": {},
   "outputs": [],
   "source": [
    "# same query, results re-ranked with LTR \n",
    "query = {\n",
    "    \"query\": {\n",
    "        \"bool\": {\n",
    "            \"must\": [\n",
    "                {\"match\": {\"product_title\": \"circular saw\"}},\n",
    "                {\"match\": {\"product_description\": \"circular saw\"}}\n",
    "            ]\n",
    "        }\n",
    "    },\n",
    "    \"rescore\": {\n",
    "        \"window_size\": 50,\n",
    "        \"query\": {\n",
    "            \"rescore_query\": {\n",
    "                \"sltr\": {\n",
    "                    \"params\": {\n",
    "                        \"keywords\": \"circular saw\"\n",
    "                    },\n",
    "                    \"model\": \"ndcg_model\"\n",
    "                }\n",
    "            }\n",
    "        }\n",
    "    }\n",
    "}\n",
    "\n",
    "res = dict(e.curl('post', 'homedepot/_search', query).json())\n",
    "#print(res)\n",
    "docids_ranked_bm25 = [hit['_id'] for hit in res['hits']['hits']]"
   ]
  },
  {
   "cell_type": "code",
   "execution_count": null,
   "metadata": {},
   "outputs": [],
   "source": [
    "print('Standard BM25 ranking:')\n",
    "print(docids_ranked_bm25)\n",
    "print('LambdaMART re-ranking:')\n",
    "print(docids_ranked_lambdamart)"
   ]
  }
 ],
 "metadata": {
  "kernelspec": {
   "display_name": "Python 3",
   "language": "python",
   "name": "python3"
  },
  "language_info": {
   "codemirror_mode": {
    "name": "ipython",
    "version": 3
   },
   "file_extension": ".py",
   "mimetype": "text/x-python",
   "name": "python",
   "nbconvert_exporter": "python",
   "pygments_lexer": "ipython3",
   "version": "3.8.5"
  },
  "toc": {
   "base_numbering": 1,
   "nav_menu": {},
   "number_sections": true,
   "sideBar": true,
   "skip_h1_title": false,
   "title_cell": "Table of Contents",
   "title_sidebar": "Contents",
   "toc_cell": false,
   "toc_position": {
    "height": "calc(100% - 180px)",
    "left": "10px",
    "top": "150px",
    "width": "293.391px"
   },
   "toc_section_display": true,
   "toc_window_display": true
  }
 },
 "nbformat": 4,
 "nbformat_minor": 4
}
